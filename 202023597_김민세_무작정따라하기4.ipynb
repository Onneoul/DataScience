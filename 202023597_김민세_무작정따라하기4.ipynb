{
  "nbformat": 4,
  "nbformat_minor": 0,
  "metadata": {
    "colab": {
      "provenance": [],
      "collapsed_sections": [],
      "authorship_tag": "ABX9TyMUGjTouzR/aRdBWN0E3qin",
      "include_colab_link": true
    },
    "kernelspec": {
      "name": "ir",
      "display_name": "R"
    },
    "language_info": {
      "name": "R"
    },
    "gpuClass": "standard"
  },
  "cells": [
    {
      "cell_type": "markdown",
      "metadata": {
        "id": "view-in-github",
        "colab_type": "text"
      },
      "source": [
        "<a href=\"https://colab.research.google.com/github/Onneoul/DataScience/blob/main/202023597_%EA%B9%80%EB%AF%BC%EC%84%B8_%EB%AC%B4%EC%9E%91%EC%A0%95%EB%94%B0%EB%9D%BC%ED%95%98%EA%B8%B04.ipynb\" target=\"_parent\"><img src=\"https://colab.research.google.com/assets/colab-badge.svg\" alt=\"Open In Colab\"/></a>"
      ]
    },
    {
      "cell_type": "markdown",
      "source": [
        "**스트링**"
      ],
      "metadata": {
        "id": "YhCGdimXxY6y"
      }
    },
    {
      "cell_type": "code",
      "source": [
        "paste(\"The life of\", \"Pi\")\n",
        "paste(\"Thie life of\", pi)\n",
        "paste(\"Q\", 1:10, sep=\".\")\n",
        "paste0(\"Q\", 1:10)"
      ],
      "metadata": {
        "colab": {
          "base_uri": "https://localhost:8080/",
          "height": 86
        },
        "id": "AGBmIxbqxSoZ",
        "outputId": "50185726-1d41-4e90-f334-9ea154ac873d"
      },
      "execution_count": null,
      "outputs": [
        {
          "output_type": "display_data",
          "data": {
            "text/html": [
              "'The life of Pi'"
            ],
            "text/markdown": "'The life of Pi'",
            "text/latex": "'The life of Pi'",
            "text/plain": [
              "[1] \"The life of Pi\""
            ]
          },
          "metadata": {}
        },
        {
          "output_type": "display_data",
          "data": {
            "text/html": [
              "'Thie life of 3.14159265358979'"
            ],
            "text/markdown": "'Thie life of 3.14159265358979'",
            "text/latex": "'Thie life of 3.14159265358979'",
            "text/plain": [
              "[1] \"Thie life of 3.14159265358979\""
            ]
          },
          "metadata": {}
        },
        {
          "output_type": "display_data",
          "data": {
            "text/html": [
              "<style>\n",
              ".list-inline {list-style: none; margin:0; padding: 0}\n",
              ".list-inline>li {display: inline-block}\n",
              ".list-inline>li:not(:last-child)::after {content: \"\\00b7\"; padding: 0 .5ex}\n",
              "</style>\n",
              "<ol class=list-inline><li>'Q.1'</li><li>'Q.2'</li><li>'Q.3'</li><li>'Q.4'</li><li>'Q.5'</li><li>'Q.6'</li><li>'Q.7'</li><li>'Q.8'</li><li>'Q.9'</li><li>'Q.10'</li></ol>\n"
            ],
            "text/markdown": "1. 'Q.1'\n2. 'Q.2'\n3. 'Q.3'\n4. 'Q.4'\n5. 'Q.5'\n6. 'Q.6'\n7. 'Q.7'\n8. 'Q.8'\n9. 'Q.9'\n10. 'Q.10'\n\n\n",
            "text/latex": "\\begin{enumerate*}\n\\item 'Q.1'\n\\item 'Q.2'\n\\item 'Q.3'\n\\item 'Q.4'\n\\item 'Q.5'\n\\item 'Q.6'\n\\item 'Q.7'\n\\item 'Q.8'\n\\item 'Q.9'\n\\item 'Q.10'\n\\end{enumerate*}\n",
            "text/plain": [
              " [1] \"Q.1\"  \"Q.2\"  \"Q.3\"  \"Q.4\"  \"Q.5\"  \"Q.6\"  \"Q.7\"  \"Q.8\"  \"Q.9\"  \"Q.10\""
            ]
          },
          "metadata": {}
        },
        {
          "output_type": "display_data",
          "data": {
            "text/html": [
              "<style>\n",
              ".list-inline {list-style: none; margin:0; padding: 0}\n",
              ".list-inline>li {display: inline-block}\n",
              ".list-inline>li:not(:last-child)::after {content: \"\\00b7\"; padding: 0 .5ex}\n",
              "</style>\n",
              "<ol class=list-inline><li>'Q1'</li><li>'Q2'</li><li>'Q3'</li><li>'Q4'</li><li>'Q5'</li><li>'Q6'</li><li>'Q7'</li><li>'Q8'</li><li>'Q9'</li><li>'Q10'</li></ol>\n"
            ],
            "text/markdown": "1. 'Q1'\n2. 'Q2'\n3. 'Q3'\n4. 'Q4'\n5. 'Q5'\n6. 'Q6'\n7. 'Q7'\n8. 'Q8'\n9. 'Q9'\n10. 'Q10'\n\n\n",
            "text/latex": "\\begin{enumerate*}\n\\item 'Q1'\n\\item 'Q2'\n\\item 'Q3'\n\\item 'Q4'\n\\item 'Q5'\n\\item 'Q6'\n\\item 'Q7'\n\\item 'Q8'\n\\item 'Q9'\n\\item 'Q10'\n\\end{enumerate*}\n",
            "text/plain": [
              " [1] \"Q1\"  \"Q2\"  \"Q3\"  \"Q4\"  \"Q5\"  \"Q6\"  \"Q7\"  \"Q8\"  \"Q9\"  \"Q10\""
            ]
          },
          "metadata": {}
        }
      ]
    },
    {
      "cell_type": "code",
      "source": [
        "vec <- c(\"건국대학교\", \"과학기술대학\", \"컴퓨터공학과\")\n",
        "paste(vec, collapse = \" \")"
      ],
      "metadata": {
        "colab": {
          "base_uri": "https://localhost:8080/",
          "height": 34
        },
        "id": "Nqi6lbD8xVW9",
        "outputId": "c50311e2-1c37-4a24-ce16-feca39441f78"
      },
      "execution_count": null,
      "outputs": [
        {
          "output_type": "display_data",
          "data": {
            "text/html": [
              "'건국대학교 과학기술대학 컴퓨터공학과'"
            ],
            "text/markdown": "'건국대학교 과학기술대학 컴퓨터공학과'",
            "text/latex": "'건국대학교 과학기술대학 컴퓨터공학과'",
            "text/plain": [
              "[1] \"건국대학교 과학기술대학 컴퓨터공학과\""
            ]
          },
          "metadata": {}
        }
      ]
    },
    {
      "cell_type": "code",
      "source": [
        "nchar(c(\"건국대학교\", \"과학기술대학\", \"컴퓨터공학과\"))\n",
        "length(c(\"건국대학교\", \"과학기술대학\", \"컴퓨터공학과\"))"
      ],
      "metadata": {
        "colab": {
          "base_uri": "https://localhost:8080/",
          "height": 52
        },
        "id": "jmQcOO0gxW9W",
        "outputId": "14a057fd-3037-42f6-b929-96220f128713"
      },
      "execution_count": null,
      "outputs": [
        {
          "output_type": "display_data",
          "data": {
            "text/html": [
              "<style>\n",
              ".list-inline {list-style: none; margin:0; padding: 0}\n",
              ".list-inline>li {display: inline-block}\n",
              ".list-inline>li:not(:last-child)::after {content: \"\\00b7\"; padding: 0 .5ex}\n",
              "</style>\n",
              "<ol class=list-inline><li>5</li><li>6</li><li>6</li></ol>\n"
            ],
            "text/markdown": "1. 5\n2. 6\n3. 6\n\n\n",
            "text/latex": "\\begin{enumerate*}\n\\item 5\n\\item 6\n\\item 6\n\\end{enumerate*}\n",
            "text/plain": [
              "[1] 5 6 6"
            ]
          },
          "metadata": {}
        },
        {
          "output_type": "display_data",
          "data": {
            "text/html": [
              "3"
            ],
            "text/markdown": "3",
            "text/latex": "3",
            "text/plain": [
              "[1] 3"
            ]
          },
          "metadata": {}
        }
      ]
    },
    {
      "cell_type": "code",
      "source": [
        "tolower(c(\"ABC Mart\", \"T.J.MAX\", \"Sears\"))\n",
        "toupper(c(\"ABC Mart\", \"T.J.MAX\", \"Sears\"))"
      ],
      "metadata": {
        "colab": {
          "base_uri": "https://localhost:8080/",
          "height": 52
        },
        "id": "qqVYKkWqxXt2",
        "outputId": "80c15c4c-e488-45ba-ff94-f5e1d3b43e00"
      },
      "execution_count": null,
      "outputs": [
        {
          "output_type": "display_data",
          "data": {
            "text/html": [
              "<style>\n",
              ".list-inline {list-style: none; margin:0; padding: 0}\n",
              ".list-inline>li {display: inline-block}\n",
              ".list-inline>li:not(:last-child)::after {content: \"\\00b7\"; padding: 0 .5ex}\n",
              "</style>\n",
              "<ol class=list-inline><li>'abc mart'</li><li>'t.j.max'</li><li>'sears'</li></ol>\n"
            ],
            "text/markdown": "1. 'abc mart'\n2. 't.j.max'\n3. 'sears'\n\n\n",
            "text/latex": "\\begin{enumerate*}\n\\item 'abc mart'\n\\item 't.j.max'\n\\item 'sears'\n\\end{enumerate*}\n",
            "text/plain": [
              "[1] \"abc mart\" \"t.j.max\"  \"sears\"   "
            ]
          },
          "metadata": {}
        },
        {
          "output_type": "display_data",
          "data": {
            "text/html": [
              "<style>\n",
              ".list-inline {list-style: none; margin:0; padding: 0}\n",
              ".list-inline>li {display: inline-block}\n",
              ".list-inline>li:not(:last-child)::after {content: \"\\00b7\"; padding: 0 .5ex}\n",
              "</style>\n",
              "<ol class=list-inline><li>'ABC MART'</li><li>'T.J.MAX'</li><li>'SEARS'</li></ol>\n"
            ],
            "text/markdown": "1. 'ABC MART'\n2. 'T.J.MAX'\n3. 'SEARS'\n\n\n",
            "text/latex": "\\begin{enumerate*}\n\\item 'ABC MART'\n\\item 'T.J.MAX'\n\\item 'SEARS'\n\\end{enumerate*}\n",
            "text/plain": [
              "[1] \"ABC MART\" \"T.J.MAX\"  \"SEARS\"   "
            ]
          },
          "metadata": {}
        }
      ]
    },
    {
      "cell_type": "code",
      "source": [
        "substr(\"20221030\", 1,4)\n",
        "substr(\"20221030\", 5,6)\n",
        "substr(\"20221030\", 7,8)"
      ],
      "metadata": {
        "colab": {
          "base_uri": "https://localhost:8080/",
          "height": 69
        },
        "id": "SLcPlm7HzF-k",
        "outputId": "38f1675f-3cb1-4ac0-faea-95cc6bad7cd2"
      },
      "execution_count": null,
      "outputs": [
        {
          "output_type": "display_data",
          "data": {
            "text/html": [
              "'2022'"
            ],
            "text/markdown": "'2022'",
            "text/latex": "'2022'",
            "text/plain": [
              "[1] \"2022\""
            ]
          },
          "metadata": {}
        },
        {
          "output_type": "display_data",
          "data": {
            "text/html": [
              "'10'"
            ],
            "text/markdown": "'10'",
            "text/latex": "'10'",
            "text/plain": [
              "[1] \"10\""
            ]
          },
          "metadata": {}
        },
        {
          "output_type": "display_data",
          "data": {
            "text/html": [
              "'30'"
            ],
            "text/markdown": "'30'",
            "text/latex": "'30'",
            "text/plain": [
              "[1] \"30\""
            ]
          },
          "metadata": {}
        }
      ]
    },
    {
      "cell_type": "code",
      "source": [
        "fruits <- c (\"apple\", \"banana\", \"mango\")\n",
        "gsub(\"a\", \"A\", fruits)"
      ],
      "metadata": {
        "colab": {
          "base_uri": "https://localhost:8080/",
          "height": 34
        },
        "id": "sZSFcA14zQuV",
        "outputId": "6ee8e0e6-c5e7-4223-b645-5134820b3a25"
      },
      "execution_count": null,
      "outputs": [
        {
          "output_type": "display_data",
          "data": {
            "text/html": [
              "<style>\n",
              ".list-inline {list-style: none; margin:0; padding: 0}\n",
              ".list-inline>li {display: inline-block}\n",
              ".list-inline>li:not(:last-child)::after {content: \"\\00b7\"; padding: 0 .5ex}\n",
              "</style>\n",
              "<ol class=list-inline><li>'Apple'</li><li>'bAnAnA'</li><li>'mAngo'</li></ol>\n"
            ],
            "text/markdown": "1. 'Apple'\n2. 'bAnAnA'\n3. 'mAngo'\n\n\n",
            "text/latex": "\\begin{enumerate*}\n\\item 'Apple'\n\\item 'bAnAnA'\n\\item 'mAngo'\n\\end{enumerate*}\n",
            "text/plain": [
              "[1] \"Apple\"  \"bAnAnA\" \"mAngo\" "
            ]
          },
          "metadata": {}
        }
      ]
    },
    {
      "cell_type": "code",
      "source": [
        "code <- c(\"JAVA\", \"Python\", \"PHP\", \"javascript\", \"C\", \"R\", \"C++\")\n",
        "grep(\"^P\", code, value=T)\n",
        "grep(\"[a~z]$\", code, value=T)\n",
        "grep(\"[rR]\", code, value=T)\n",
        "grep(\"^[a~kA~K]\", code, value=T)\n",
        "grep(\"[aeiou]\", code, value=T)\n",
        "grep(\"[aeiou]\", code, value=T, ignore.case = T) "
      ],
      "metadata": {
        "colab": {
          "base_uri": "https://localhost:8080/",
          "height": 86
        },
        "id": "mAJe7m4JzeLl",
        "outputId": "060850cd-2e2e-4a37-ae62-49c33b59530f"
      },
      "execution_count": null,
      "outputs": [
        {
          "output_type": "display_data",
          "data": {
            "text/html": [
              "<style>\n",
              ".list-inline {list-style: none; margin:0; padding: 0}\n",
              ".list-inline>li {display: inline-block}\n",
              ".list-inline>li:not(:last-child)::after {content: \"\\00b7\"; padding: 0 .5ex}\n",
              "</style>\n",
              "<ol class=list-inline><li>'Python'</li><li>'PHP'</li></ol>\n"
            ],
            "text/markdown": "1. 'Python'\n2. 'PHP'\n\n\n",
            "text/latex": "\\begin{enumerate*}\n\\item 'Python'\n\\item 'PHP'\n\\end{enumerate*}\n",
            "text/plain": [
              "[1] \"Python\" \"PHP\"   "
            ]
          },
          "metadata": {}
        },
        {
          "output_type": "display_data",
          "data": {
            "text/html": [],
            "text/markdown": "",
            "text/latex": "",
            "text/plain": [
              "character(0)"
            ]
          },
          "metadata": {}
        },
        {
          "output_type": "display_data",
          "data": {
            "text/html": [
              "<style>\n",
              ".list-inline {list-style: none; margin:0; padding: 0}\n",
              ".list-inline>li {display: inline-block}\n",
              ".list-inline>li:not(:last-child)::after {content: \"\\00b7\"; padding: 0 .5ex}\n",
              "</style>\n",
              "<ol class=list-inline><li>'javascript'</li><li>'R'</li></ol>\n"
            ],
            "text/markdown": "1. 'javascript'\n2. 'R'\n\n\n",
            "text/latex": "\\begin{enumerate*}\n\\item 'javascript'\n\\item 'R'\n\\end{enumerate*}\n",
            "text/plain": [
              "[1] \"javascript\" \"R\"         "
            ]
          },
          "metadata": {}
        },
        {
          "output_type": "display_data",
          "data": {
            "text/html": [],
            "text/markdown": "",
            "text/latex": "",
            "text/plain": [
              "character(0)"
            ]
          },
          "metadata": {}
        },
        {
          "output_type": "display_data",
          "data": {
            "text/html": [
              "<style>\n",
              ".list-inline {list-style: none; margin:0; padding: 0}\n",
              ".list-inline>li {display: inline-block}\n",
              ".list-inline>li:not(:last-child)::after {content: \"\\00b7\"; padding: 0 .5ex}\n",
              "</style>\n",
              "<ol class=list-inline><li>'Python'</li><li>'javascript'</li></ol>\n"
            ],
            "text/markdown": "1. 'Python'\n2. 'javascript'\n\n\n",
            "text/latex": "\\begin{enumerate*}\n\\item 'Python'\n\\item 'javascript'\n\\end{enumerate*}\n",
            "text/plain": [
              "[1] \"Python\"     \"javascript\""
            ]
          },
          "metadata": {}
        },
        {
          "output_type": "display_data",
          "data": {
            "text/html": [
              "<style>\n",
              ".list-inline {list-style: none; margin:0; padding: 0}\n",
              ".list-inline>li {display: inline-block}\n",
              ".list-inline>li:not(:last-child)::after {content: \"\\00b7\"; padding: 0 .5ex}\n",
              "</style>\n",
              "<ol class=list-inline><li>'JAVA'</li><li>'Python'</li><li>'javascript'</li></ol>\n"
            ],
            "text/markdown": "1. 'JAVA'\n2. 'Python'\n3. 'javascript'\n\n\n",
            "text/latex": "\\begin{enumerate*}\n\\item 'JAVA'\n\\item 'Python'\n\\item 'javascript'\n\\end{enumerate*}\n",
            "text/plain": [
              "[1] \"JAVA\"       \"Python\"     \"javascript\""
            ]
          },
          "metadata": {}
        }
      ]
    },
    {
      "cell_type": "markdown",
      "source": [
        "**교통사고통계**"
      ],
      "metadata": {
        "id": "TwSDyJoi0BtR"
      }
    },
    {
      "cell_type": "code",
      "source": [
        "library(readxl)"
      ],
      "metadata": {
        "id": "XnSOkjqQ0Dvt"
      },
      "execution_count": null,
      "outputs": []
    },
    {
      "cell_type": "code",
      "source": [
        "data <- read_xlsx(\"도로교통공단_시군구별 월별 교통사고 통계_20211231.xlsx\")\n",
        "head(data)"
      ],
      "metadata": {
        "colab": {
          "base_uri": "https://localhost:8080/",
          "height": 286
        },
        "id": "9YtSmzDZ0bqz",
        "outputId": "c9691c17-2598-438c-f1fb-7faccfda03ed"
      },
      "execution_count": null,
      "outputs": [
        {
          "output_type": "display_data",
          "data": {
            "text/html": [
              "<table class=\"dataframe\">\n",
              "<caption>A tibble: 6 × 8</caption>\n",
              "<thead>\n",
              "\t<tr><th scope=col>시도</th><th scope=col>시군구</th><th scope=col>발생월</th><th scope=col>사고건수</th><th scope=col>사망자수</th><th scope=col>중상자수</th><th scope=col>경상자수</th><th scope=col>부상신고자수</th></tr>\n",
              "\t<tr><th scope=col>&lt;chr&gt;</th><th scope=col>&lt;chr&gt;</th><th scope=col>&lt;dbl&gt;</th><th scope=col>&lt;dbl&gt;</th><th scope=col>&lt;dbl&gt;</th><th scope=col>&lt;dbl&gt;</th><th scope=col>&lt;dbl&gt;</th><th scope=col>&lt;dbl&gt;</th></tr>\n",
              "</thead>\n",
              "<tbody>\n",
              "\t<tr><td>서울</td><td>종로구</td><td>1</td><td>69</td><td>3</td><td>21</td><td>66</td><td> 6</td></tr>\n",
              "\t<tr><td>서울</td><td>종로구</td><td>2</td><td>54</td><td>0</td><td>21</td><td>46</td><td> 8</td></tr>\n",
              "\t<tr><td>서울</td><td>종로구</td><td>3</td><td>66</td><td>0</td><td>17</td><td>65</td><td>10</td></tr>\n",
              "\t<tr><td>서울</td><td>종로구</td><td>4</td><td>51</td><td>0</td><td>21</td><td>39</td><td> 6</td></tr>\n",
              "\t<tr><td>서울</td><td>종로구</td><td>5</td><td>62</td><td>0</td><td>12</td><td>68</td><td>11</td></tr>\n",
              "\t<tr><td>서울</td><td>종로구</td><td>6</td><td>70</td><td>1</td><td>16</td><td>69</td><td> 5</td></tr>\n",
              "</tbody>\n",
              "</table>\n"
            ],
            "text/markdown": "\nA tibble: 6 × 8\n\n| 시도 &lt;chr&gt; | 시군구 &lt;chr&gt; | 발생월 &lt;dbl&gt; | 사고건수 &lt;dbl&gt; | 사망자수 &lt;dbl&gt; | 중상자수 &lt;dbl&gt; | 경상자수 &lt;dbl&gt; | 부상신고자수 &lt;dbl&gt; |\n|---|---|---|---|---|---|---|---|\n| 서울 | 종로구 | 1 | 69 | 3 | 21 | 66 |  6 |\n| 서울 | 종로구 | 2 | 54 | 0 | 21 | 46 |  8 |\n| 서울 | 종로구 | 3 | 66 | 0 | 17 | 65 | 10 |\n| 서울 | 종로구 | 4 | 51 | 0 | 21 | 39 |  6 |\n| 서울 | 종로구 | 5 | 62 | 0 | 12 | 68 | 11 |\n| 서울 | 종로구 | 6 | 70 | 1 | 16 | 69 |  5 |\n\n",
            "text/latex": "A tibble: 6 × 8\n\\begin{tabular}{llllllll}\n 시도 & 시군구 & 발생월 & 사고건수 & 사망자수 & 중상자수 & 경상자수 & 부상신고자수\\\\\n <chr> & <chr> & <dbl> & <dbl> & <dbl> & <dbl> & <dbl> & <dbl>\\\\\n\\hline\n\t 서울 & 종로구 & 1 & 69 & 3 & 21 & 66 &  6\\\\\n\t 서울 & 종로구 & 2 & 54 & 0 & 21 & 46 &  8\\\\\n\t 서울 & 종로구 & 3 & 66 & 0 & 17 & 65 & 10\\\\\n\t 서울 & 종로구 & 4 & 51 & 0 & 21 & 39 &  6\\\\\n\t 서울 & 종로구 & 5 & 62 & 0 & 12 & 68 & 11\\\\\n\t 서울 & 종로구 & 6 & 70 & 1 & 16 & 69 &  5\\\\\n\\end{tabular}\n",
            "text/plain": [
              "  시도 시군구 발생월 사고건수 사망자수 중상자수 경상자수 부상신고자수\n",
              "1 서울 종로구 1      69       3        21       66        6          \n",
              "2 서울 종로구 2      54       0        21       46        8          \n",
              "3 서울 종로구 3      66       0        17       65       10          \n",
              "4 서울 종로구 4      51       0        21       39        6          \n",
              "5 서울 종로구 5      62       0        12       68       11          \n",
              "6 서울 종로구 6      70       1        16       69        5          "
            ]
          },
          "metadata": {}
        }
      ]
    },
    {
      "cell_type": "code",
      "source": [
        "seoul <- subset(data, 시도 == \"서울\")\n",
        "table(seoul$시도)"
      ],
      "metadata": {
        "colab": {
          "base_uri": "https://localhost:8080/",
          "height": 71
        },
        "id": "6DZE68dB0kbG",
        "outputId": "ef76715b-b8f5-41a8-8a45-68c3db4ccbe2"
      },
      "execution_count": null,
      "outputs": [
        {
          "output_type": "display_data",
          "data": {
            "text/plain": [
              "\n",
              "서울 \n",
              " 300 "
            ]
          },
          "metadata": {}
        }
      ]
    },
    {
      "cell_type": "code",
      "source": [
        "table(seoul$시군구)"
      ],
      "metadata": {
        "colab": {
          "base_uri": "https://localhost:8080/",
          "height": 180
        },
        "id": "vGQf-lr80phh",
        "outputId": "4b2af76f-a6bd-4936-a2ad-d273cda8813d"
      },
      "execution_count": null,
      "outputs": [
        {
          "output_type": "display_data",
          "data": {
            "text/plain": [
              "\n",
              "  강남구   강동구   강북구   강서구   관악구   광진구   구로구   금천구 \n",
              "      12       12       12       12       12       12       12       12 \n",
              "  노원구   도봉구 동대문구   동작구   마포구 서대문구   서초구   성동구 \n",
              "      12       12       12       12       12       12       12       12 \n",
              "  성북구   송파구   양천구 영등포구   용산구   은평구   종로구     중구 \n",
              "      12       12       12       12       12       12       12       12 \n",
              "  중랑구 \n",
              "      12 "
            ]
          },
          "metadata": {}
        }
      ]
    },
    {
      "cell_type": "code",
      "source": [
        "idx <- grep(\"^강\", seoul$시군구)\n",
        "gang <- seoul[idx, ]\n",
        "table(gang$시군구)\n",
        "result <- tapply(gang$사고건수, gang$시군구, mean)\n",
        "print(round(result, 1))"
      ],
      "metadata": {
        "colab": {
          "base_uri": "https://localhost:8080/",
          "height": 108
        },
        "id": "Bs3ZJp_I0uxB",
        "outputId": "331bc6ec-ee42-444f-80aa-8435b0811d3a"
      },
      "execution_count": null,
      "outputs": [
        {
          "output_type": "display_data",
          "data": {
            "text/plain": [
              "\n",
              "강남구 강동구 강북구 강서구 \n",
              "    12     12     12     12 "
            ]
          },
          "metadata": {}
        },
        {
          "output_type": "stream",
          "name": "stdout",
          "text": [
            "강남구 강동구 강북구 강서구 \n",
            " 318.3   87.2   84.8  125.1 \n"
          ]
        }
      ]
    },
    {
      "cell_type": "code",
      "source": [
        "cb <- subset(data, 시도==\"충북\")\n",
        "table(cb$시군구)"
      ],
      "metadata": {
        "colab": {
          "base_uri": "https://localhost:8080/",
          "height": 71
        },
        "id": "AlTt4wFd2NIY",
        "outputId": "14f392d1-bedb-46b7-ca13-05f8b1acf982"
      },
      "execution_count": null,
      "outputs": [
        {
          "output_type": "display_data",
          "data": {
            "text/plain": [
              "\n",
              "괴산군 단양군 보은군 영동군 옥천군 음성군 제천시 증평군 진천군 청주시 충주시 \n",
              "    12     12     12     12     12     12     12     12     12     12     12 "
            ]
          },
          "metadata": {}
        }
      ]
    },
    {
      "cell_type": "code",
      "source": [
        "idx <- grep(\"시$\", cb$시군구)\n",
        "city <- cb[idx, ]\n",
        "table(city$시군구)"
      ],
      "metadata": {
        "colab": {
          "base_uri": "https://localhost:8080/",
          "height": 71
        },
        "id": "83qoy8Q-2TJY",
        "outputId": "d8d0c6ae-88f5-4e4a-cc6e-abf5855b1f99"
      },
      "execution_count": null,
      "outputs": [
        {
          "output_type": "display_data",
          "data": {
            "text/plain": [
              "\n",
              "제천시 청주시 충주시 \n",
              "    12     12     12 "
            ]
          },
          "metadata": {}
        }
      ]
    },
    {
      "cell_type": "code",
      "source": [
        "result <- tapply(city$사고건수, city$시군구, mean)\n",
        "print(round(result, 1))"
      ],
      "metadata": {
        "colab": {
          "base_uri": "https://localhost:8080/"
        },
        "id": "TYhXXgsG2aER",
        "outputId": "105b2415-4767-459c-a36c-d2d3efa01f93"
      },
      "execution_count": null,
      "outputs": [
        {
          "output_type": "stream",
          "name": "stdout",
          "text": [
            "제천시 청주시 충주시 \n",
            "  58.8  345.1   95.6 \n"
          ]
        }
      ]
    },
    {
      "cell_type": "markdown",
      "source": [
        "**제어문**"
      ],
      "metadata": {
        "id": "j45_syBq2oqv"
      }
    },
    {
      "cell_type": "code",
      "source": [
        "data <- floor(runif(10, 1, 100))\n",
        "print(data)\n",
        "even <- c()\n",
        "for(num in data) {\n",
        "  if(num %% 2 == 0)\n",
        "    even <- c(even, num)\n",
        "}\n",
        "print(even)"
      ],
      "metadata": {
        "colab": {
          "base_uri": "https://localhost:8080/"
        },
        "id": "jT_cHdqG2qJV",
        "outputId": "dc5427df-f46b-4dba-ee0a-c867adbfac66"
      },
      "execution_count": null,
      "outputs": [
        {
          "output_type": "stream",
          "name": "stdout",
          "text": [
            " [1]  2 10 70 85 79 27 96 44 60 92\n",
            "[1]  2 10 70 96 44 60 92\n"
          ]
        }
      ]
    },
    {
      "cell_type": "code",
      "source": [
        "even_R <- data[data %% 2 == 0]\n",
        "print(even_R)"
      ],
      "metadata": {
        "colab": {
          "base_uri": "https://localhost:8080/"
        },
        "id": "wJeRZvk_27xI",
        "outputId": "ac0c8f4e-60a5-4ec1-e917-2c8ef2b93c44"
      },
      "execution_count": null,
      "outputs": [
        {
          "output_type": "stream",
          "name": "stdout",
          "text": [
            "[1]  2 10 70 96 44 60 92\n"
          ]
        }
      ]
    },
    {
      "cell_type": "markdown",
      "source": [
        "**기업조사결과**"
      ],
      "metadata": {
        "id": "u1ozC9aRxO21"
      }
    },
    {
      "cell_type": "code",
      "execution_count": null,
      "metadata": {
        "id": "Rm85P5M4p8f-"
      },
      "outputs": [],
      "source": [
        "library(readxl)"
      ]
    },
    {
      "cell_type": "code",
      "source": [
        "files <- list.files(patter = \"S...xlsx\")\n",
        "files"
      ],
      "metadata": {
        "colab": {
          "base_uri": "https://localhost:8080/",
          "height": 52
        },
        "id": "V4RDJtFmrONF",
        "outputId": "b644d2c9-3456-4ab1-8131-2db51165ccfc"
      },
      "execution_count": null,
      "outputs": [
        {
          "output_type": "display_data",
          "data": {
            "text/html": [
              "<style>\n",
              ".list-inline {list-style: none; margin:0; padding: 0}\n",
              ".list-inline>li {display: inline-block}\n",
              ".list-inline>li:not(:last-child)::after {content: \"\\00b7\"; padding: 0 .5ex}\n",
              "</style>\n",
              "<ol class=list-inline><li>'S01.xlsx'</li><li>'S02.xlsx'</li><li>'S03.xlsx'</li><li>'S04.xlsx'</li><li>'S05.xlsx'</li><li>'S06.xlsx'</li><li>'S07.xlsx'</li><li>'S08.xlsx'</li><li>'S09.xlsx'</li><li>'S10.xlsx'</li><li>'S11.xlsx'</li><li>'S12.xlsx'</li><li>'S13.xlsx'</li><li>'S14.xlsx'</li><li>'S15.xlsx'</li><li>'S16.xlsx'</li><li>'S17.xlsx'</li><li>'S18.xlsx'</li><li>'S19.xlsx'</li><li>'S20.xlsx'</li><li>'S21.xlsx'</li><li>'S22.xlsx'</li><li>'S23.xlsx'</li><li>'S24.xlsx'</li><li>'S25.xlsx'</li><li>'S26.xlsx'</li><li>'S27.xlsx'</li><li>'S28.xlsx'</li><li>'S29.xlsx'</li><li>'S30.xlsx'</li><li>'S31.xlsx'</li><li>'S32.xlsx'</li><li>'S33.xlsx'</li><li>'S34.xlsx'</li><li>'S35.xlsx'</li></ol>\n"
            ],
            "text/markdown": "1. 'S01.xlsx'\n2. 'S02.xlsx'\n3. 'S03.xlsx'\n4. 'S04.xlsx'\n5. 'S05.xlsx'\n6. 'S06.xlsx'\n7. 'S07.xlsx'\n8. 'S08.xlsx'\n9. 'S09.xlsx'\n10. 'S10.xlsx'\n11. 'S11.xlsx'\n12. 'S12.xlsx'\n13. 'S13.xlsx'\n14. 'S14.xlsx'\n15. 'S15.xlsx'\n16. 'S16.xlsx'\n17. 'S17.xlsx'\n18. 'S18.xlsx'\n19. 'S19.xlsx'\n20. 'S20.xlsx'\n21. 'S21.xlsx'\n22. 'S22.xlsx'\n23. 'S23.xlsx'\n24. 'S24.xlsx'\n25. 'S25.xlsx'\n26. 'S26.xlsx'\n27. 'S27.xlsx'\n28. 'S28.xlsx'\n29. 'S29.xlsx'\n30. 'S30.xlsx'\n31. 'S31.xlsx'\n32. 'S32.xlsx'\n33. 'S33.xlsx'\n34. 'S34.xlsx'\n35. 'S35.xlsx'\n\n\n",
            "text/latex": "\\begin{enumerate*}\n\\item 'S01.xlsx'\n\\item 'S02.xlsx'\n\\item 'S03.xlsx'\n\\item 'S04.xlsx'\n\\item 'S05.xlsx'\n\\item 'S06.xlsx'\n\\item 'S07.xlsx'\n\\item 'S08.xlsx'\n\\item 'S09.xlsx'\n\\item 'S10.xlsx'\n\\item 'S11.xlsx'\n\\item 'S12.xlsx'\n\\item 'S13.xlsx'\n\\item 'S14.xlsx'\n\\item 'S15.xlsx'\n\\item 'S16.xlsx'\n\\item 'S17.xlsx'\n\\item 'S18.xlsx'\n\\item 'S19.xlsx'\n\\item 'S20.xlsx'\n\\item 'S21.xlsx'\n\\item 'S22.xlsx'\n\\item 'S23.xlsx'\n\\item 'S24.xlsx'\n\\item 'S25.xlsx'\n\\item 'S26.xlsx'\n\\item 'S27.xlsx'\n\\item 'S28.xlsx'\n\\item 'S29.xlsx'\n\\item 'S30.xlsx'\n\\item 'S31.xlsx'\n\\item 'S32.xlsx'\n\\item 'S33.xlsx'\n\\item 'S34.xlsx'\n\\item 'S35.xlsx'\n\\end{enumerate*}\n",
            "text/plain": [
              " [1] \"S01.xlsx\" \"S02.xlsx\" \"S03.xlsx\" \"S04.xlsx\" \"S05.xlsx\" \"S06.xlsx\"\n",
              " [7] \"S07.xlsx\" \"S08.xlsx\" \"S09.xlsx\" \"S10.xlsx\" \"S11.xlsx\" \"S12.xlsx\"\n",
              "[13] \"S13.xlsx\" \"S14.xlsx\" \"S15.xlsx\" \"S16.xlsx\" \"S17.xlsx\" \"S18.xlsx\"\n",
              "[19] \"S19.xlsx\" \"S20.xlsx\" \"S21.xlsx\" \"S22.xlsx\" \"S23.xlsx\" \"S24.xlsx\"\n",
              "[25] \"S25.xlsx\" \"S26.xlsx\" \"S27.xlsx\" \"S28.xlsx\" \"S29.xlsx\" \"S30.xlsx\"\n",
              "[31] \"S31.xlsx\" \"S32.xlsx\" \"S33.xlsx\" \"S34.xlsx\" \"S35.xlsx\""
            ]
          },
          "metadata": {}
        }
      ]
    },
    {
      "cell_type": "code",
      "source": [
        "df <- read_xlsx(files[1])\n",
        "fc <- read_xlsx(files[1])"
      ],
      "metadata": {
        "id": "BELdek9IrbT-"
      },
      "execution_count": null,
      "outputs": []
    },
    {
      "cell_type": "code",
      "source": [
        "for (x in 2:length(files)) {\n",
        "  tmp <- read_xlsx(files[x])\n",
        "  tmp <- tmp[1:5, ]\n",
        "  df <- rbind(df, tmp)\n",
        "}\n",
        "str(df)"
      ],
      "metadata": {
        "colab": {
          "base_uri": "https://localhost:8080/"
        },
        "id": "iY48UzGlqQcI",
        "outputId": "bc435b98-7adb-43cd-a882-c99f147f6ac7"
      },
      "execution_count": null,
      "outputs": [
        {
          "output_type": "stream",
          "name": "stdout",
          "text": [
            "tibble [175 × 8] (S3: tbl_df/tbl/data.frame)\n",
            " $ 번호          : num [1:175] 1 2 3 4 5 1 2 3 4 5 ...\n",
            " $ 기업명        : chr [1:175] \"오라클\" \"삼성SDS\" \"데이타솔루션\" \"비아이 매트릭스\" ...\n",
            " $ 주 솔루션     : chr [1:175] \"Oracle Big Data SQL\" \"Brightics AI\" \"BIGstation\" \"MATRIX\" ...\n",
            " $ 소재지        : chr [1:175] \"미국 텍사스주, 오스틴\" \"서울특별시 송파구 올림픽로35길 123\" \"서울 강남구 언주로 620, 10층\" \"서울 강남구 선릉로 433 (역삼동, 세방빌딩) 신관 17층\" ...\n",
            " $ 설립년도      : chr [1:175] \"1905년\" \"1985년\" \"2011년\" \"2005년\" ...\n",
            " $ 매출액        : chr [1:175] \"390억 달러\" \"13조 6,300억 원\" \"1,005억\" \"206억\" ...\n",
            " $ 직원수        : chr [1:175] \"135000\" \"12501\" \"180\" \"170\" ...\n",
            " $ 취업 희망 순위: chr [1:175] \"1\" \"2\" \"3\" \"4\" ...\n"
          ]
        }
      ]
    },
    {
      "cell_type": "code",
      "source": [
        "names(df) <- c(\"no\", \"company\", \"solution\", \"location\", \"year\", \"sales\", \"employee\", \"rank\")\n",
        "str(df)"
      ],
      "metadata": {
        "colab": {
          "base_uri": "https://localhost:8080/"
        },
        "id": "1wXpYUhztvAd",
        "outputId": "7335948b-58c0-4712-ccbb-cc8b6debb902"
      },
      "execution_count": null,
      "outputs": [
        {
          "output_type": "stream",
          "name": "stdout",
          "text": [
            "tibble [175 × 8] (S3: tbl_df/tbl/data.frame)\n",
            " $ no      : num [1:175] 1 2 3 4 5 1 2 3 4 5 ...\n",
            " $ company : chr [1:175] \"오라클\" \"삼성SDS\" \"데이타솔루션\" \"비아이 매트릭스\" ...\n",
            " $ solution: chr [1:175] \"Oracle Big Data SQL\" \"Brightics AI\" \"BIGstation\" \"MATRIX\" ...\n",
            " $ location: chr [1:175] \"미국 텍사스주, 오스틴\" \"서울특별시 송파구 올림픽로35길 123\" \"서울 강남구 언주로 620, 10층\" \"서울 강남구 선릉로 433 (역삼동, 세방빌딩) 신관 17층\" ...\n",
            " $ year    : chr [1:175] \"1905년\" \"1985년\" \"2011년\" \"2005년\" ...\n",
            " $ sales   : chr [1:175] \"390억 달러\" \"13조 6,300억 원\" \"1,005억\" \"206억\" ...\n",
            " $ employee: chr [1:175] \"135000\" \"12501\" \"180\" \"170\" ...\n",
            " $ rank    : chr [1:175] \"1\" \"2\" \"3\" \"4\" ...\n"
          ]
        }
      ]
    },
    {
      "cell_type": "code",
      "source": [
        "table(df$company)"
      ],
      "metadata": {
        "colab": {
          "base_uri": "https://localhost:8080/",
          "height": 652
        },
        "id": "M1JfKdNuwret",
        "outputId": "f4882a62-2736-48a4-81f7-3a810365c8d1"
      },
      "execution_count": null,
      "outputs": [
        {
          "output_type": "display_data",
          "data": {
            "text/plain": [
              "\n",
              "            KT넥스알                LGCNS             POSCOICT \n",
              "                  13                   14                    6 \n",
              "                 SAS                SKC&C             SK텔레콤 \n",
              "                   2                    4                   15 \n",
              "        굿모닝아이텍             넷크루즈           다이퀘스트 \n",
              "                   3                    2                    1 \n",
              "        데이터솔루션       데이터스트림즈         롯데정보통신 \n",
              "                   4                    5                   12 \n",
              "        리얼타임테크             메타빌드               모비젠 \n",
              "                   1                    1                    3 \n",
              "        바이브컴퍼니       비아이매트릭스               비투엔 \n",
              "                   7                    1                    1 \n",
              "              사이람              삼성SDS             소프트센 \n",
              "                   1                   22                    1 \n",
              "            솔트룩스            솔트룩스        스마트포캐스트 \n",
              "                   8                    1                    1 \n",
              "  시스트라인터내셔널           시큐레이어     알앤비소프트웨어 \n",
              "                   1                    1                    1 \n",
              "            알에스엔               어니컴                 엑셈 \n",
              "                   2                    2                    1 \n",
              "              엔투엠               오라클             와이즈넛 \n",
              "                   1                    7                    4 \n",
              "            웨어밸리           위세아이텍               위엠비 \n",
              "                   1                    2                    1 \n",
              "      이글루시큐리티               이니텍               이디엄 \n",
              "                   1                    1                    1 \n",
              "            케이사인       코난테크놀로지               코스콤 \n",
              "                   3                    1                    3 \n",
              "        코오롱베니트           투이컨설팅         티맥스소프트 \n",
              "                   1                    2                    3 \n",
              "펜타시스템테크놀러지              한컴MDS              현대HDS \n",
              "                   2                    1                    2 \n",
              "효성인포메이션시스템 \n",
              "                   1 "
            ]
          },
          "metadata": {}
        }
      ]
    },
    {
      "cell_type": "code",
      "source": [
        "library(stringr)\n",
        "df$company <- toupper(df$company)\n",
        "df$company <- gsub(\" \", \"\", df$company)\n",
        "df$company <- str_trim(df$company)\n",
        "df$company <- gsub(\"데이타솔루션\", \"데이터솔루션\", df$company)\n",
        "df$company <- gsub(\"KTNEXR\", \"KT넥스알\", df$company)\n",
        "df$company <- gsub(\"한국오라클\", \"오라클\", df$company)"
      ],
      "metadata": {
        "id": "sTXnr4suvUBs"
      },
      "execution_count": null,
      "outputs": []
    },
    {
      "cell_type": "markdown",
      "source": [
        "str_trim - 앞뒤 공백 제거 / 문자열 시작, 끝의 공백과 중간의 공백은 다를 수 있음"
      ],
      "metadata": {
        "id": "vQDX1bDe1nwW"
      }
    },
    {
      "cell_type": "code",
      "source": [
        "result <- as.data.frame.array(table(df$company, df$rank))\n",
        "names(result) <- paste0(\"R\", 1:5)\n",
        "head(result)"
      ],
      "metadata": {
        "colab": {
          "base_uri": "https://localhost:8080/",
          "height": 286
        },
        "id": "j5ddYmx3xdAk",
        "outputId": "f2ed85b3-05ef-46eb-8550-3bd537064b41"
      },
      "execution_count": null,
      "outputs": [
        {
          "output_type": "display_data",
          "data": {
            "text/html": [
              "<table class=\"dataframe\">\n",
              "<caption>A data.frame: 6 × 5</caption>\n",
              "<thead>\n",
              "\t<tr><th></th><th scope=col>R1</th><th scope=col>R2</th><th scope=col>R3</th><th scope=col>R4</th><th scope=col>R5</th></tr>\n",
              "\t<tr><th></th><th scope=col>&lt;int&gt;</th><th scope=col>&lt;int&gt;</th><th scope=col>&lt;int&gt;</th><th scope=col>&lt;int&gt;</th><th scope=col>&lt;int&gt;</th></tr>\n",
              "</thead>\n",
              "<tbody>\n",
              "\t<tr><th scope=row>KT넥스알</th><td>0</td><td>2</td><td>3</td><td>1</td><td>7</td></tr>\n",
              "\t<tr><th scope=row>LGCNS</th><td>5</td><td>6</td><td>1</td><td>2</td><td>0</td></tr>\n",
              "\t<tr><th scope=row>POSCOICT</th><td>0</td><td>1</td><td>3</td><td>1</td><td>1</td></tr>\n",
              "\t<tr><th scope=row>SAS</th><td>0</td><td>0</td><td>0</td><td>2</td><td>0</td></tr>\n",
              "\t<tr><th scope=row>SKC&amp;C</th><td>1</td><td>0</td><td>0</td><td>2</td><td>1</td></tr>\n",
              "\t<tr><th scope=row>SK텔레콤</th><td>7</td><td>2</td><td>5</td><td>0</td><td>1</td></tr>\n",
              "</tbody>\n",
              "</table>\n"
            ],
            "text/markdown": "\nA data.frame: 6 × 5\n\n| <!--/--> | R1 &lt;int&gt; | R2 &lt;int&gt; | R3 &lt;int&gt; | R4 &lt;int&gt; | R5 &lt;int&gt; |\n|---|---|---|---|---|---|\n| KT넥스알 | 0 | 2 | 3 | 1 | 7 |\n| LGCNS | 5 | 6 | 1 | 2 | 0 |\n| POSCOICT | 0 | 1 | 3 | 1 | 1 |\n| SAS | 0 | 0 | 0 | 2 | 0 |\n| SKC&amp;C | 1 | 0 | 0 | 2 | 1 |\n| SK텔레콤 | 7 | 2 | 5 | 0 | 1 |\n\n",
            "text/latex": "A data.frame: 6 × 5\n\\begin{tabular}{r|lllll}\n  & R1 & R2 & R3 & R4 & R5\\\\\n  & <int> & <int> & <int> & <int> & <int>\\\\\n\\hline\n\tKT넥스알 & 0 & 2 & 3 & 1 & 7\\\\\n\tLGCNS & 5 & 6 & 1 & 2 & 0\\\\\n\tPOSCOICT & 0 & 1 & 3 & 1 & 1\\\\\n\tSAS & 0 & 0 & 0 & 2 & 0\\\\\n\tSKC\\&C & 1 & 0 & 0 & 2 & 1\\\\\n\tSK텔레콤 & 7 & 2 & 5 & 0 & 1\\\\\n\\end{tabular}\n",
            "text/plain": [
              "         R1 R2 R3 R4 R5\n",
              "KT넥스알 0  2  3  1  7 \n",
              "LGCNS    5  6  1  2  0 \n",
              "POSCOICT 0  1  3  1  1 \n",
              "SAS      0  0  0  2  0 \n",
              "SKC&C    1  0  0  2  1 \n",
              "SK텔레콤 7  2  5  0  1 "
            ]
          },
          "metadata": {}
        }
      ]
    },
    {
      "cell_type": "code",
      "source": [
        "result$score <- result$R1*5 + result$R2*4 + result$R3*3 + result$R4*2 + result$R5*1\n",
        "result[order(-result$score), ]"
      ],
      "metadata": {
        "colab": {
          "base_uri": "https://localhost:8080/",
          "height": 1000
        },
        "id": "RRK7-qRMyP7I",
        "outputId": "e3bde5a8-c52b-408c-e863-fc1a8f3edef5"
      },
      "execution_count": null,
      "outputs": [
        {
          "output_type": "display_data",
          "data": {
            "text/html": [
              "<table class=\"dataframe\">\n",
              "<caption>A data.frame: 48 × 6</caption>\n",
              "<thead>\n",
              "\t<tr><th></th><th scope=col>R1</th><th scope=col>R2</th><th scope=col>R3</th><th scope=col>R4</th><th scope=col>R5</th><th scope=col>score</th></tr>\n",
              "\t<tr><th></th><th scope=col>&lt;int&gt;</th><th scope=col>&lt;int&gt;</th><th scope=col>&lt;int&gt;</th><th scope=col>&lt;int&gt;</th><th scope=col>&lt;int&gt;</th><th scope=col>&lt;dbl&gt;</th></tr>\n",
              "</thead>\n",
              "<tbody>\n",
              "\t<tr><th scope=row>삼성SDS</th><td>9</td><td>7</td><td>4</td><td>1</td><td>1</td><td>88</td></tr>\n",
              "\t<tr><th scope=row>SK텔레콤</th><td>7</td><td>2</td><td>5</td><td>0</td><td>1</td><td>59</td></tr>\n",
              "\t<tr><th scope=row>LGCNS</th><td>5</td><td>6</td><td>1</td><td>2</td><td>0</td><td>56</td></tr>\n",
              "\t<tr><th scope=row>롯데정보통신</th><td>2</td><td>2</td><td>4</td><td>3</td><td>0</td><td>36</td></tr>\n",
              "\t<tr><th scope=row>오라클</th><td>5</td><td>1</td><td>0</td><td>1</td><td>0</td><td>31</td></tr>\n",
              "\t<tr><th scope=row>KT넥스알</th><td>0</td><td>2</td><td>3</td><td>1</td><td>7</td><td>26</td></tr>\n",
              "\t<tr><th scope=row>바이브컴퍼니</th><td>1</td><td>2</td><td>0</td><td>2</td><td>2</td><td>19</td></tr>\n",
              "\t<tr><th scope=row>솔트룩스</th><td>0</td><td>2</td><td>1</td><td>2</td><td>4</td><td>19</td></tr>\n",
              "\t<tr><th scope=row>POSCOICT</th><td>0</td><td>1</td><td>3</td><td>1</td><td>1</td><td>16</td></tr>\n",
              "\t<tr><th scope=row>데이터스트림즈</th><td>0</td><td>1</td><td>1</td><td>3</td><td>0</td><td>13</td></tr>\n",
              "\t<tr><th scope=row>코스콤</th><td>1</td><td>1</td><td>1</td><td>0</td><td>0</td><td>12</td></tr>\n",
              "\t<tr><th scope=row>SKC&amp;C</th><td>1</td><td>0</td><td>0</td><td>2</td><td>1</td><td>10</td></tr>\n",
              "\t<tr><th scope=row>와이즈넛</th><td>0</td><td>0</td><td>2</td><td>1</td><td>1</td><td> 9</td></tr>\n",
              "\t<tr><th scope=row>굿모닝아이텍</th><td>0</td><td>1</td><td>1</td><td>0</td><td>1</td><td> 8</td></tr>\n",
              "\t<tr><th scope=row>데이터솔루션</th><td>0</td><td>0</td><td>2</td><td>1</td><td>0</td><td> 8</td></tr>\n",
              "\t<tr><th scope=row>케이사인</th><td>0</td><td>1</td><td>0</td><td>2</td><td>0</td><td> 8</td></tr>\n",
              "\t<tr><th scope=row>티맥스소프트</th><td>0</td><td>1</td><td>1</td><td>0</td><td>1</td><td> 8</td></tr>\n",
              "\t<tr><th scope=row>어니컴</th><td>1</td><td>0</td><td>0</td><td>1</td><td>0</td><td> 7</td></tr>\n",
              "\t<tr><th scope=row>펜타시스템테크놀러지</th><td>1</td><td>0</td><td>0</td><td>1</td><td>0</td><td> 7</td></tr>\n",
              "\t<tr><th scope=row>투이컨설팅</th><td>0</td><td>1</td><td>0</td><td>1</td><td>0</td><td> 6</td></tr>\n",
              "\t<tr><th scope=row>메타빌드</th><td>1</td><td>0</td><td>0</td><td>0</td><td>0</td><td> 5</td></tr>\n",
              "\t<tr><th scope=row>비투엔</th><td>1</td><td>0</td><td>0</td><td>0</td><td>0</td><td> 5</td></tr>\n",
              "\t<tr><th scope=row>알에스엔</th><td>0</td><td>0</td><td>1</td><td>1</td><td>0</td><td> 5</td></tr>\n",
              "\t<tr><th scope=row>위세아이텍</th><td>0</td><td>0</td><td>1</td><td>1</td><td>0</td><td> 5</td></tr>\n",
              "\t<tr><th scope=row>SAS</th><td>0</td><td>0</td><td>0</td><td>2</td><td>0</td><td> 4</td></tr>\n",
              "\t<tr><th scope=row>모비젠</th><td>0</td><td>0</td><td>0</td><td>1</td><td>2</td><td> 4</td></tr>\n",
              "\t<tr><th scope=row>소프트센</th><td>0</td><td>1</td><td>0</td><td>0</td><td>0</td><td> 4</td></tr>\n",
              "\t<tr><th scope=row>스마트포캐스트</th><td>0</td><td>1</td><td>0</td><td>0</td><td>0</td><td> 4</td></tr>\n",
              "\t<tr><th scope=row>이니텍</th><td>0</td><td>1</td><td>0</td><td>0</td><td>0</td><td> 4</td></tr>\n",
              "\t<tr><th scope=row>코오롱베니트</th><td>0</td><td>1</td><td>0</td><td>0</td><td>0</td><td> 4</td></tr>\n",
              "\t<tr><th scope=row>현대HDS</th><td>0</td><td>0</td><td>1</td><td>0</td><td>1</td><td> 4</td></tr>\n",
              "\t<tr><th scope=row>다이퀘스트</th><td>0</td><td>0</td><td>1</td><td>0</td><td>0</td><td> 3</td></tr>\n",
              "\t<tr><th scope=row>시큐레이어</th><td>0</td><td>0</td><td>1</td><td>0</td><td>0</td><td> 3</td></tr>\n",
              "\t<tr><th scope=row>이글루시큐리티</th><td>0</td><td>0</td><td>1</td><td>0</td><td>0</td><td> 3</td></tr>\n",
              "\t<tr><th scope=row>넷크루즈</th><td>0</td><td>0</td><td>0</td><td>0</td><td>2</td><td> 2</td></tr>\n",
              "\t<tr><th scope=row>비아이매트릭스</th><td>0</td><td>0</td><td>0</td><td>1</td><td>0</td><td> 2</td></tr>\n",
              "\t<tr><th scope=row>알앤비소프트웨어</th><td>0</td><td>0</td><td>0</td><td>1</td><td>0</td><td> 2</td></tr>\n",
              "\t<tr><th scope=row>엔투엠</th><td>0</td><td>0</td><td>0</td><td>1</td><td>0</td><td> 2</td></tr>\n",
              "\t<tr><th scope=row>한컴MDS</th><td>0</td><td>0</td><td>0</td><td>1</td><td>0</td><td> 2</td></tr>\n",
              "\t<tr><th scope=row>리얼타임테크</th><td>0</td><td>0</td><td>0</td><td>0</td><td>1</td><td> 1</td></tr>\n",
              "\t<tr><th scope=row>사이람</th><td>0</td><td>0</td><td>0</td><td>0</td><td>1</td><td> 1</td></tr>\n",
              "\t<tr><th scope=row>시스트라인터내셔널</th><td>0</td><td>0</td><td>0</td><td>0</td><td>1</td><td> 1</td></tr>\n",
              "\t<tr><th scope=row>엑셈</th><td>0</td><td>0</td><td>0</td><td>0</td><td>1</td><td> 1</td></tr>\n",
              "\t<tr><th scope=row>웨어밸리</th><td>0</td><td>0</td><td>0</td><td>0</td><td>1</td><td> 1</td></tr>\n",
              "\t<tr><th scope=row>위엠비</th><td>0</td><td>0</td><td>0</td><td>0</td><td>1</td><td> 1</td></tr>\n",
              "\t<tr><th scope=row>이디엄</th><td>0</td><td>0</td><td>0</td><td>0</td><td>1</td><td> 1</td></tr>\n",
              "\t<tr><th scope=row>코난테크놀로지</th><td>0</td><td>0</td><td>0</td><td>0</td><td>1</td><td> 1</td></tr>\n",
              "\t<tr><th scope=row>효성인포메이션시스템</th><td>0</td><td>0</td><td>0</td><td>0</td><td>1</td><td> 1</td></tr>\n",
              "</tbody>\n",
              "</table>\n"
            ],
            "text/markdown": "\nA data.frame: 48 × 6\n\n| <!--/--> | R1 &lt;int&gt; | R2 &lt;int&gt; | R3 &lt;int&gt; | R4 &lt;int&gt; | R5 &lt;int&gt; | score &lt;dbl&gt; |\n|---|---|---|---|---|---|---|\n| 삼성SDS | 9 | 7 | 4 | 1 | 1 | 88 |\n| SK텔레콤 | 7 | 2 | 5 | 0 | 1 | 59 |\n| LGCNS | 5 | 6 | 1 | 2 | 0 | 56 |\n| 롯데정보통신 | 2 | 2 | 4 | 3 | 0 | 36 |\n| 오라클 | 5 | 1 | 0 | 1 | 0 | 31 |\n| KT넥스알 | 0 | 2 | 3 | 1 | 7 | 26 |\n| 바이브컴퍼니 | 1 | 2 | 0 | 2 | 2 | 19 |\n| 솔트룩스 | 0 | 2 | 1 | 2 | 4 | 19 |\n| POSCOICT | 0 | 1 | 3 | 1 | 1 | 16 |\n| 데이터스트림즈 | 0 | 1 | 1 | 3 | 0 | 13 |\n| 코스콤 | 1 | 1 | 1 | 0 | 0 | 12 |\n| SKC&amp;C | 1 | 0 | 0 | 2 | 1 | 10 |\n| 와이즈넛 | 0 | 0 | 2 | 1 | 1 |  9 |\n| 굿모닝아이텍 | 0 | 1 | 1 | 0 | 1 |  8 |\n| 데이터솔루션 | 0 | 0 | 2 | 1 | 0 |  8 |\n| 케이사인 | 0 | 1 | 0 | 2 | 0 |  8 |\n| 티맥스소프트 | 0 | 1 | 1 | 0 | 1 |  8 |\n| 어니컴 | 1 | 0 | 0 | 1 | 0 |  7 |\n| 펜타시스템테크놀러지 | 1 | 0 | 0 | 1 | 0 |  7 |\n| 투이컨설팅 | 0 | 1 | 0 | 1 | 0 |  6 |\n| 메타빌드 | 1 | 0 | 0 | 0 | 0 |  5 |\n| 비투엔 | 1 | 0 | 0 | 0 | 0 |  5 |\n| 알에스엔 | 0 | 0 | 1 | 1 | 0 |  5 |\n| 위세아이텍 | 0 | 0 | 1 | 1 | 0 |  5 |\n| SAS | 0 | 0 | 0 | 2 | 0 |  4 |\n| 모비젠 | 0 | 0 | 0 | 1 | 2 |  4 |\n| 소프트센 | 0 | 1 | 0 | 0 | 0 |  4 |\n| 스마트포캐스트 | 0 | 1 | 0 | 0 | 0 |  4 |\n| 이니텍 | 0 | 1 | 0 | 0 | 0 |  4 |\n| 코오롱베니트 | 0 | 1 | 0 | 0 | 0 |  4 |\n| 현대HDS | 0 | 0 | 1 | 0 | 1 |  4 |\n| 다이퀘스트 | 0 | 0 | 1 | 0 | 0 |  3 |\n| 시큐레이어 | 0 | 0 | 1 | 0 | 0 |  3 |\n| 이글루시큐리티 | 0 | 0 | 1 | 0 | 0 |  3 |\n| 넷크루즈 | 0 | 0 | 0 | 0 | 2 |  2 |\n| 비아이매트릭스 | 0 | 0 | 0 | 1 | 0 |  2 |\n| 알앤비소프트웨어 | 0 | 0 | 0 | 1 | 0 |  2 |\n| 엔투엠 | 0 | 0 | 0 | 1 | 0 |  2 |\n| 한컴MDS | 0 | 0 | 0 | 1 | 0 |  2 |\n| 리얼타임테크 | 0 | 0 | 0 | 0 | 1 |  1 |\n| 사이람 | 0 | 0 | 0 | 0 | 1 |  1 |\n| 시스트라인터내셔널 | 0 | 0 | 0 | 0 | 1 |  1 |\n| 엑셈 | 0 | 0 | 0 | 0 | 1 |  1 |\n| 웨어밸리 | 0 | 0 | 0 | 0 | 1 |  1 |\n| 위엠비 | 0 | 0 | 0 | 0 | 1 |  1 |\n| 이디엄 | 0 | 0 | 0 | 0 | 1 |  1 |\n| 코난테크놀로지 | 0 | 0 | 0 | 0 | 1 |  1 |\n| 효성인포메이션시스템 | 0 | 0 | 0 | 0 | 1 |  1 |\n\n",
            "text/latex": "A data.frame: 48 × 6\n\\begin{tabular}{r|llllll}\n  & R1 & R2 & R3 & R4 & R5 & score\\\\\n  & <int> & <int> & <int> & <int> & <int> & <dbl>\\\\\n\\hline\n\t삼성SDS & 9 & 7 & 4 & 1 & 1 & 88\\\\\n\tSK텔레콤 & 7 & 2 & 5 & 0 & 1 & 59\\\\\n\tLGCNS & 5 & 6 & 1 & 2 & 0 & 56\\\\\n\t롯데정보통신 & 2 & 2 & 4 & 3 & 0 & 36\\\\\n\t오라클 & 5 & 1 & 0 & 1 & 0 & 31\\\\\n\tKT넥스알 & 0 & 2 & 3 & 1 & 7 & 26\\\\\n\t바이브컴퍼니 & 1 & 2 & 0 & 2 & 2 & 19\\\\\n\t솔트룩스 & 0 & 2 & 1 & 2 & 4 & 19\\\\\n\tPOSCOICT & 0 & 1 & 3 & 1 & 1 & 16\\\\\n\t데이터스트림즈 & 0 & 1 & 1 & 3 & 0 & 13\\\\\n\t코스콤 & 1 & 1 & 1 & 0 & 0 & 12\\\\\n\tSKC\\&C & 1 & 0 & 0 & 2 & 1 & 10\\\\\n\t와이즈넛 & 0 & 0 & 2 & 1 & 1 &  9\\\\\n\t굿모닝아이텍 & 0 & 1 & 1 & 0 & 1 &  8\\\\\n\t데이터솔루션 & 0 & 0 & 2 & 1 & 0 &  8\\\\\n\t케이사인 & 0 & 1 & 0 & 2 & 0 &  8\\\\\n\t티맥스소프트 & 0 & 1 & 1 & 0 & 1 &  8\\\\\n\t어니컴 & 1 & 0 & 0 & 1 & 0 &  7\\\\\n\t펜타시스템테크놀러지 & 1 & 0 & 0 & 1 & 0 &  7\\\\\n\t투이컨설팅 & 0 & 1 & 0 & 1 & 0 &  6\\\\\n\t메타빌드 & 1 & 0 & 0 & 0 & 0 &  5\\\\\n\t비투엔 & 1 & 0 & 0 & 0 & 0 &  5\\\\\n\t알에스엔 & 0 & 0 & 1 & 1 & 0 &  5\\\\\n\t위세아이텍 & 0 & 0 & 1 & 1 & 0 &  5\\\\\n\tSAS & 0 & 0 & 0 & 2 & 0 &  4\\\\\n\t모비젠 & 0 & 0 & 0 & 1 & 2 &  4\\\\\n\t소프트센 & 0 & 1 & 0 & 0 & 0 &  4\\\\\n\t스마트포캐스트 & 0 & 1 & 0 & 0 & 0 &  4\\\\\n\t이니텍 & 0 & 1 & 0 & 0 & 0 &  4\\\\\n\t코오롱베니트 & 0 & 1 & 0 & 0 & 0 &  4\\\\\n\t현대HDS & 0 & 0 & 1 & 0 & 1 &  4\\\\\n\t다이퀘스트 & 0 & 0 & 1 & 0 & 0 &  3\\\\\n\t시큐레이어 & 0 & 0 & 1 & 0 & 0 &  3\\\\\n\t이글루시큐리티 & 0 & 0 & 1 & 0 & 0 &  3\\\\\n\t넷크루즈 & 0 & 0 & 0 & 0 & 2 &  2\\\\\n\t비아이매트릭스 & 0 & 0 & 0 & 1 & 0 &  2\\\\\n\t알앤비소프트웨어 & 0 & 0 & 0 & 1 & 0 &  2\\\\\n\t엔투엠 & 0 & 0 & 0 & 1 & 0 &  2\\\\\n\t한컴MDS & 0 & 0 & 0 & 1 & 0 &  2\\\\\n\t리얼타임테크 & 0 & 0 & 0 & 0 & 1 &  1\\\\\n\t사이람 & 0 & 0 & 0 & 0 & 1 &  1\\\\\n\t시스트라인터내셔널 & 0 & 0 & 0 & 0 & 1 &  1\\\\\n\t엑셈 & 0 & 0 & 0 & 0 & 1 &  1\\\\\n\t웨어밸리 & 0 & 0 & 0 & 0 & 1 &  1\\\\\n\t위엠비 & 0 & 0 & 0 & 0 & 1 &  1\\\\\n\t이디엄 & 0 & 0 & 0 & 0 & 1 &  1\\\\\n\t코난테크놀로지 & 0 & 0 & 0 & 0 & 1 &  1\\\\\n\t효성인포메이션시스템 & 0 & 0 & 0 & 0 & 1 &  1\\\\\n\\end{tabular}\n",
            "text/plain": [
              "                     R1 R2 R3 R4 R5 score\n",
              "삼성SDS              9  7  4  1  1  88   \n",
              "SK텔레콤             7  2  5  0  1  59   \n",
              "LGCNS                5  6  1  2  0  56   \n",
              "롯데정보통신         2  2  4  3  0  36   \n",
              "오라클               5  1  0  1  0  31   \n",
              "KT넥스알             0  2  3  1  7  26   \n",
              "바이브컴퍼니         1  2  0  2  2  19   \n",
              "솔트룩스             0  2  1  2  4  19   \n",
              "POSCOICT             0  1  3  1  1  16   \n",
              "데이터스트림즈       0  1  1  3  0  13   \n",
              "코스콤               1  1  1  0  0  12   \n",
              "SKC&C                1  0  0  2  1  10   \n",
              "와이즈넛             0  0  2  1  1   9   \n",
              "굿모닝아이텍         0  1  1  0  1   8   \n",
              "데이터솔루션         0  0  2  1  0   8   \n",
              "케이사인             0  1  0  2  0   8   \n",
              "티맥스소프트         0  1  1  0  1   8   \n",
              "어니컴               1  0  0  1  0   7   \n",
              "펜타시스템테크놀러지 1  0  0  1  0   7   \n",
              "투이컨설팅           0  1  0  1  0   6   \n",
              "메타빌드             1  0  0  0  0   5   \n",
              "비투엔               1  0  0  0  0   5   \n",
              "알에스엔             0  0  1  1  0   5   \n",
              "위세아이텍           0  0  1  1  0   5   \n",
              "SAS                  0  0  0  2  0   4   \n",
              "모비젠               0  0  0  1  2   4   \n",
              "소프트센             0  1  0  0  0   4   \n",
              "스마트포캐스트       0  1  0  0  0   4   \n",
              "이니텍               0  1  0  0  0   4   \n",
              "코오롱베니트         0  1  0  0  0   4   \n",
              "현대HDS              0  0  1  0  1   4   \n",
              "다이퀘스트           0  0  1  0  0   3   \n",
              "시큐레이어           0  0  1  0  0   3   \n",
              "이글루시큐리티       0  0  1  0  0   3   \n",
              "넷크루즈             0  0  0  0  2   2   \n",
              "비아이매트릭스       0  0  0  1  0   2   \n",
              "알앤비소프트웨어     0  0  0  1  0   2   \n",
              "엔투엠               0  0  0  1  0   2   \n",
              "한컴MDS              0  0  0  1  0   2   \n",
              "리얼타임테크         0  0  0  0  1   1   \n",
              "사이람               0  0  0  0  1   1   \n",
              "시스트라인터내셔널   0  0  0  0  1   1   \n",
              "엑셈                 0  0  0  0  1   1   \n",
              "웨어밸리             0  0  0  0  1   1   \n",
              "위엠비               0  0  0  0  1   1   \n",
              "이디엄               0  0  0  0  1   1   \n",
              "코난테크놀로지       0  0  0  0  1   1   \n",
              "효성인포메이션시스템 0  0  0  0  1   1   "
            ]
          },
          "metadata": {}
        }
      ]
    },
    {
      "cell_type": "code",
      "source": [
        "weight <- c(5:1)\n",
        "ranks <- c(9, 7, 4, 1, 1)\n",
        "crossprod(weight, ranks)"
      ],
      "metadata": {
        "colab": {
          "base_uri": "https://localhost:8080/",
          "height": 152
        },
        "id": "5PYohje13rb9",
        "outputId": "fe0f8346-a76d-40b5-f609-b8e2f227f7ab"
      },
      "execution_count": null,
      "outputs": [
        {
          "output_type": "display_data",
          "data": {
            "text/html": [
              "<table class=\"dataframe\">\n",
              "<caption>A matrix: 1 × 1 of type dbl</caption>\n",
              "<tbody>\n",
              "\t<tr><td>88</td></tr>\n",
              "</tbody>\n",
              "</table>\n"
            ],
            "text/markdown": "\nA matrix: 1 × 1 of type dbl\n\n| 88 |\n\n",
            "text/latex": "A matrix: 1 × 1 of type dbl\n\\begin{tabular}{l}\n\t 88\\\\\n\\end{tabular}\n",
            "text/plain": [
              "     [,1]\n",
              "[1,] 88  "
            ]
          },
          "metadata": {}
        }
      ]
    },
    {
      "cell_type": "code",
      "source": [
        "result1 <- result[, 1:5]"
      ],
      "metadata": {
        "id": "glIzF9Cn4iAa"
      },
      "execution_count": null,
      "outputs": []
    },
    {
      "cell_type": "code",
      "source": [
        "typeof(result1[1, ])"
      ],
      "metadata": {
        "colab": {
          "base_uri": "https://localhost:8080/",
          "height": 34
        },
        "id": "ckAMxeWU6dHr",
        "outputId": "2b81bbbc-02ea-4766-bc35-15c56b4433d9"
      },
      "execution_count": null,
      "outputs": [
        {
          "output_type": "display_data",
          "data": {
            "text/html": [
              "'list'"
            ],
            "text/markdown": "'list'",
            "text/latex": "'list'",
            "text/plain": [
              "[1] \"list\""
            ]
          },
          "metadata": {}
        }
      ]
    },
    {
      "cell_type": "code",
      "source": [
        "for(x in nrow(result1)) {\n",
        "  tmp <- result1[x, ]\n",
        "  result1$score <- crossprod(weight, tmp)\n",
        "}\n",
        "head(result1)"
      ],
      "metadata": {
        "colab": {
          "base_uri": "https://localhost:8080/",
          "height": 136
        },
        "id": "3WSY_5ou5u_-",
        "outputId": "d5057093-48e0-40f5-ed6c-1d2262a3e05d"
      },
      "execution_count": null,
      "outputs": [
        {
          "output_type": "error",
          "ename": "ERROR",
          "evalue": "ignored",
          "traceback": [
            "Error in crossprod(x, y): requires numeric/complex matrix/vector arguments\nTraceback:\n",
            "1. crossprod(weight, tmp)"
          ]
        }
      ]
    },
    {
      "cell_type": "code",
      "source": [
        "str(result)"
      ],
      "metadata": {
        "colab": {
          "base_uri": "https://localhost:8080/"
        },
        "id": "zmvvOF-g3-Xk",
        "outputId": "886ccddf-6a56-4995-b13c-cac2f644e80b"
      },
      "execution_count": null,
      "outputs": [
        {
          "output_type": "stream",
          "name": "stdout",
          "text": [
            "'data.frame':\t48 obs. of  6 variables:\n",
            " $ R1   : int  0 5 0 0 1 7 0 0 0 0 ...\n",
            " $ R2   : int  2 6 1 0 0 2 1 0 0 0 ...\n",
            " $ R3   : int  3 1 3 0 0 5 1 0 1 2 ...\n",
            " $ R4   : int  1 2 1 2 2 0 0 0 0 1 ...\n",
            " $ R5   : int  7 0 1 0 1 1 1 2 0 0 ...\n",
            " $ score: num  26 56 16 4 10 59 8 2 3 8 ...\n"
          ]
        }
      ]
    },
    {
      "cell_type": "code",
      "source": [
        "df$rank"
      ],
      "metadata": {
        "colab": {
          "base_uri": "https://localhost:8080/",
          "height": 86
        },
        "id": "Exj7TBeP2ImE",
        "outputId": "1389c2d4-2dcb-4235-ee5a-3f9c87278566"
      },
      "execution_count": null,
      "outputs": [
        {
          "output_type": "display_data",
          "data": {
            "text/html": [
              "<style>\n",
              ".list-inline {list-style: none; margin:0; padding: 0}\n",
              ".list-inline>li {display: inline-block}\n",
              ".list-inline>li:not(:last-child)::after {content: \"\\00b7\"; padding: 0 .5ex}\n",
              "</style>\n",
              "<ol class=list-inline><li>'1'</li><li>'2'</li><li>'3'</li><li>'4'</li><li>'5'</li><li>'1'</li><li>'2'</li><li>'3'</li><li>'4'</li><li>'5'</li><li>'2'</li><li>'4'</li><li>'5'</li><li>'3'</li><li>'1'</li><li>'1'</li><li>'2'</li><li>'3'</li><li>'4'</li><li>'5'</li><li>'1'</li><li>'2'</li><li>'3'</li><li>'4'</li><li>'5'</li><li>'2'</li><li>'3'</li><li>'5'</li><li>'1'</li><li>'4'</li><li>'1'</li><li>'2'</li><li>'3'</li><li>'4'</li><li>'5'</li><li>'2'</li><li>'1'</li><li>'5'</li><li>'3'</li><li>'4'</li><li>'1'</li><li>'2'</li><li>'3'</li><li>'4'</li><li>'5'</li><li>'1'</li><li>'2'</li><li>'3'</li><li>'4'</li><li>'5'</li><li>'1'</li><li>'2'</li><li>'3'</li><li>'4'</li><li>'5'</li><li>'1'</li><li>'2'</li><li>'3'</li><li>'4'</li><li>'5'</li><li>'1'</li><li>'2'</li><li>'3'</li><li>'4'</li><li>'5'</li><li>'1'</li><li>'2'</li><li>'3'</li><li>'4'</li><li>'5'</li><li>'1'</li><li>'2'</li><li>'4'</li><li>'3'</li><li>'5'</li><li>'1'</li><li>'2'</li><li>'3'</li><li>'4'</li><li>'5'</li><li>'1'</li><li>'2'</li><li>'5'</li><li>'4'</li><li>'3'</li><li>'3'</li><li>NA</li><li>'1'</li><li>NA</li><li>'2'</li><li>'2'</li><li>'4'</li><li>'3'</li><li>'5'</li><li>'1'</li><li>'1'</li><li>'3'</li><li>'2'</li><li>'5'</li><li>'4'</li><li>'1'</li><li>'2'</li><li>'3'</li><li>'4'</li><li>'5'</li><li>'1'</li><li>'4'</li><li>'2'</li><li>'3'</li><li>'5'</li><li>'5'</li><li>'1'</li><li>'4'</li><li>'2'</li><li>'3'</li><li>'1'</li><li>'3'</li><li>'5'</li><li>'2'</li><li>'4'</li><li>'1'</li><li>'2'</li><li>'3'</li><li>'4'</li><li>'5'</li><li>'4'</li><li>'3'</li><li>'2'</li><li>'1'</li><li>'5'</li><li>'1'</li><li>'2'</li><li>'3'</li><li>'4'</li><li>'5'</li><li>'5'</li><li>'2'</li><li>'3'</li><li>'4'</li><li>'1'</li><li>'1'</li><li>'2'</li><li>'3'</li><li>'4'</li><li>'5'</li><li>'1'</li><li>'2'</li><li>'3'</li><li>'4'</li><li>'5'</li><li>'4'</li><li>'1'</li><li>'3'</li><li>'5'</li><li>'2'</li><li>'1'</li><li>'2'</li><li>'3'</li><li>'4'</li><li>'5'</li><li>'1'</li><li>'2'</li><li>'3'</li><li>'4'</li><li>'5'</li><li>'1'</li><li>'2'</li><li>'3'</li><li>'4'</li><li>'5'</li><li>'3'</li><li>'1'</li><li>'5'</li><li>'2'</li><li>'4'</li></ol>\n"
            ],
            "text/markdown": "1. '1'\n2. '2'\n3. '3'\n4. '4'\n5. '5'\n6. '1'\n7. '2'\n8. '3'\n9. '4'\n10. '5'\n11. '2'\n12. '4'\n13. '5'\n14. '3'\n15. '1'\n16. '1'\n17. '2'\n18. '3'\n19. '4'\n20. '5'\n21. '1'\n22. '2'\n23. '3'\n24. '4'\n25. '5'\n26. '2'\n27. '3'\n28. '5'\n29. '1'\n30. '4'\n31. '1'\n32. '2'\n33. '3'\n34. '4'\n35. '5'\n36. '2'\n37. '1'\n38. '5'\n39. '3'\n40. '4'\n41. '1'\n42. '2'\n43. '3'\n44. '4'\n45. '5'\n46. '1'\n47. '2'\n48. '3'\n49. '4'\n50. '5'\n51. '1'\n52. '2'\n53. '3'\n54. '4'\n55. '5'\n56. '1'\n57. '2'\n58. '3'\n59. '4'\n60. '5'\n61. '1'\n62. '2'\n63. '3'\n64. '4'\n65. '5'\n66. '1'\n67. '2'\n68. '3'\n69. '4'\n70. '5'\n71. '1'\n72. '2'\n73. '4'\n74. '3'\n75. '5'\n76. '1'\n77. '2'\n78. '3'\n79. '4'\n80. '5'\n81. '1'\n82. '2'\n83. '5'\n84. '4'\n85. '3'\n86. '3'\n87. NA\n88. '1'\n89. NA\n90. '2'\n91. '2'\n92. '4'\n93. '3'\n94. '5'\n95. '1'\n96. '1'\n97. '3'\n98. '2'\n99. '5'\n100. '4'\n101. '1'\n102. '2'\n103. '3'\n104. '4'\n105. '5'\n106. '1'\n107. '4'\n108. '2'\n109. '3'\n110. '5'\n111. '5'\n112. '1'\n113. '4'\n114. '2'\n115. '3'\n116. '1'\n117. '3'\n118. '5'\n119. '2'\n120. '4'\n121. '1'\n122. '2'\n123. '3'\n124. '4'\n125. '5'\n126. '4'\n127. '3'\n128. '2'\n129. '1'\n130. '5'\n131. '1'\n132. '2'\n133. '3'\n134. '4'\n135. '5'\n136. '5'\n137. '2'\n138. '3'\n139. '4'\n140. '1'\n141. '1'\n142. '2'\n143. '3'\n144. '4'\n145. '5'\n146. '1'\n147. '2'\n148. '3'\n149. '4'\n150. '5'\n151. '4'\n152. '1'\n153. '3'\n154. '5'\n155. '2'\n156. '1'\n157. '2'\n158. '3'\n159. '4'\n160. '5'\n161. '1'\n162. '2'\n163. '3'\n164. '4'\n165. '5'\n166. '1'\n167. '2'\n168. '3'\n169. '4'\n170. '5'\n171. '3'\n172. '1'\n173. '5'\n174. '2'\n175. '4'\n\n\n",
            "text/latex": "\\begin{enumerate*}\n\\item '1'\n\\item '2'\n\\item '3'\n\\item '4'\n\\item '5'\n\\item '1'\n\\item '2'\n\\item '3'\n\\item '4'\n\\item '5'\n\\item '2'\n\\item '4'\n\\item '5'\n\\item '3'\n\\item '1'\n\\item '1'\n\\item '2'\n\\item '3'\n\\item '4'\n\\item '5'\n\\item '1'\n\\item '2'\n\\item '3'\n\\item '4'\n\\item '5'\n\\item '2'\n\\item '3'\n\\item '5'\n\\item '1'\n\\item '4'\n\\item '1'\n\\item '2'\n\\item '3'\n\\item '4'\n\\item '5'\n\\item '2'\n\\item '1'\n\\item '5'\n\\item '3'\n\\item '4'\n\\item '1'\n\\item '2'\n\\item '3'\n\\item '4'\n\\item '5'\n\\item '1'\n\\item '2'\n\\item '3'\n\\item '4'\n\\item '5'\n\\item '1'\n\\item '2'\n\\item '3'\n\\item '4'\n\\item '5'\n\\item '1'\n\\item '2'\n\\item '3'\n\\item '4'\n\\item '5'\n\\item '1'\n\\item '2'\n\\item '3'\n\\item '4'\n\\item '5'\n\\item '1'\n\\item '2'\n\\item '3'\n\\item '4'\n\\item '5'\n\\item '1'\n\\item '2'\n\\item '4'\n\\item '3'\n\\item '5'\n\\item '1'\n\\item '2'\n\\item '3'\n\\item '4'\n\\item '5'\n\\item '1'\n\\item '2'\n\\item '5'\n\\item '4'\n\\item '3'\n\\item '3'\n\\item NA\n\\item '1'\n\\item NA\n\\item '2'\n\\item '2'\n\\item '4'\n\\item '3'\n\\item '5'\n\\item '1'\n\\item '1'\n\\item '3'\n\\item '2'\n\\item '5'\n\\item '4'\n\\item '1'\n\\item '2'\n\\item '3'\n\\item '4'\n\\item '5'\n\\item '1'\n\\item '4'\n\\item '2'\n\\item '3'\n\\item '5'\n\\item '5'\n\\item '1'\n\\item '4'\n\\item '2'\n\\item '3'\n\\item '1'\n\\item '3'\n\\item '5'\n\\item '2'\n\\item '4'\n\\item '1'\n\\item '2'\n\\item '3'\n\\item '4'\n\\item '5'\n\\item '4'\n\\item '3'\n\\item '2'\n\\item '1'\n\\item '5'\n\\item '1'\n\\item '2'\n\\item '3'\n\\item '4'\n\\item '5'\n\\item '5'\n\\item '2'\n\\item '3'\n\\item '4'\n\\item '1'\n\\item '1'\n\\item '2'\n\\item '3'\n\\item '4'\n\\item '5'\n\\item '1'\n\\item '2'\n\\item '3'\n\\item '4'\n\\item '5'\n\\item '4'\n\\item '1'\n\\item '3'\n\\item '5'\n\\item '2'\n\\item '1'\n\\item '2'\n\\item '3'\n\\item '4'\n\\item '5'\n\\item '1'\n\\item '2'\n\\item '3'\n\\item '4'\n\\item '5'\n\\item '1'\n\\item '2'\n\\item '3'\n\\item '4'\n\\item '5'\n\\item '3'\n\\item '1'\n\\item '5'\n\\item '2'\n\\item '4'\n\\end{enumerate*}\n",
            "text/plain": [
              "  [1] \"1\" \"2\" \"3\" \"4\" \"5\" \"1\" \"2\" \"3\" \"4\" \"5\" \"2\" \"4\" \"5\" \"3\" \"1\" \"1\" \"2\" \"3\"\n",
              " [19] \"4\" \"5\" \"1\" \"2\" \"3\" \"4\" \"5\" \"2\" \"3\" \"5\" \"1\" \"4\" \"1\" \"2\" \"3\" \"4\" \"5\" \"2\"\n",
              " [37] \"1\" \"5\" \"3\" \"4\" \"1\" \"2\" \"3\" \"4\" \"5\" \"1\" \"2\" \"3\" \"4\" \"5\" \"1\" \"2\" \"3\" \"4\"\n",
              " [55] \"5\" \"1\" \"2\" \"3\" \"4\" \"5\" \"1\" \"2\" \"3\" \"4\" \"5\" \"1\" \"2\" \"3\" \"4\" \"5\" \"1\" \"2\"\n",
              " [73] \"4\" \"3\" \"5\" \"1\" \"2\" \"3\" \"4\" \"5\" \"1\" \"2\" \"5\" \"4\" \"3\" \"3\" NA  \"1\" NA  \"2\"\n",
              " [91] \"2\" \"4\" \"3\" \"5\" \"1\" \"1\" \"3\" \"2\" \"5\" \"4\" \"1\" \"2\" \"3\" \"4\" \"5\" \"1\" \"4\" \"2\"\n",
              "[109] \"3\" \"5\" \"5\" \"1\" \"4\" \"2\" \"3\" \"1\" \"3\" \"5\" \"2\" \"4\" \"1\" \"2\" \"3\" \"4\" \"5\" \"4\"\n",
              "[127] \"3\" \"2\" \"1\" \"5\" \"1\" \"2\" \"3\" \"4\" \"5\" \"5\" \"2\" \"3\" \"4\" \"1\" \"1\" \"2\" \"3\" \"4\"\n",
              "[145] \"5\" \"1\" \"2\" \"3\" \"4\" \"5\" \"4\" \"1\" \"3\" \"5\" \"2\" \"1\" \"2\" \"3\" \"4\" \"5\" \"1\" \"2\"\n",
              "[163] \"3\" \"4\" \"5\" \"1\" \"2\" \"3\" \"4\" \"5\" \"3\" \"1\" \"5\" \"2\" \"4\""
            ]
          },
          "metadata": {}
        }
      ]
    }
  ]
}